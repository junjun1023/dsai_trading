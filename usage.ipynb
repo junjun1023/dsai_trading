{
 "cells": [
  {
   "cell_type": "code",
   "execution_count": 1,
   "id": "decimal-mystery",
   "metadata": {},
   "outputs": [],
   "source": [
    "import os\n",
    "import matplotlib.pyplot as plt\n",
    "\n",
    "import torch\n",
    "import torch.nn as nn\n",
    "from torch.utils.data import DataLoader\n",
    "\n",
    "from tqdm import tqdm"
   ]
  },
  {
   "cell_type": "code",
   "execution_count": 2,
   "id": "reported-transsexual",
   "metadata": {},
   "outputs": [],
   "source": [
    "from code import model\n",
    "from code.data import Dataset"
   ]
  },
  {
   "cell_type": "code",
   "execution_count": 3,
   "id": "lucky-footwear",
   "metadata": {},
   "outputs": [],
   "source": [
    "root = os.getcwd()\n",
    "batch = 8\n",
    "\n",
    "device = torch.device(\"cuda:1\" if torch.cuda.is_available() else \"cpu\")"
   ]
  },
  {
   "cell_type": "markdown",
   "id": "contemporary-longer",
   "metadata": {},
   "source": [
    "# Model"
   ]
  },
  {
   "cell_type": "code",
   "execution_count": 4,
   "id": "intelligent-identity",
   "metadata": {},
   "outputs": [],
   "source": [
    "encoder = model.Extractor(in_channels=1, out_channels=1)\n",
    "decoder = model.Decoder(classes=1)\n",
    "\n",
    "\n",
    "predictor = model.Model(encoder=encoder, decoder=decoder).to(device)\n",
    "optimizer = torch.optim.Adam(predictor.parameters(), lr=1e-4)"
   ]
  },
  {
   "cell_type": "code",
   "execution_count": 5,
   "id": "collaborative-masters",
   "metadata": {},
   "outputs": [],
   "source": [
    "dataset = Dataset(path=os.path.join(root, \"training.csv\"))"
   ]
  },
  {
   "cell_type": "code",
   "execution_count": 6,
   "id": "complicated-charger",
   "metadata": {},
   "outputs": [],
   "source": [
    "trainloader = DataLoader(dataset, batch_size=batch, shuffle=False, num_workers=2)"
   ]
  },
  {
   "cell_type": "code",
   "execution_count": 7,
   "id": "military-accent",
   "metadata": {},
   "outputs": [],
   "source": [
    "slot = 0\n",
    "profit = 0"
   ]
  },
  {
   "cell_type": "code",
   "execution_count": null,
   "id": "owned-fiber",
   "metadata": {},
   "outputs": [
    {
     "name": "stderr",
     "output_type": "stream",
     "text": [
      "145it [00:09, 15.33it/s]"
     ]
    },
    {
     "name": "stdout",
     "output_type": "stream",
     "text": [
      "\n",
      "Epoch: 1, mse= 54.174\n"
     ]
    },
    {
     "name": "stderr",
     "output_type": "stream",
     "text": [
      "\n",
      "145it [00:10, 13.93it/s]"
     ]
    },
    {
     "name": "stdout",
     "output_type": "stream",
     "text": [
      "\n",
      "Epoch: 2, mse= 19.468\n"
     ]
    },
    {
     "name": "stderr",
     "output_type": "stream",
     "text": [
      "\n",
      "145it [00:09, 15.41it/s]"
     ]
    },
    {
     "name": "stdout",
     "output_type": "stream",
     "text": [
      "\n",
      "Epoch: 3, mse= 1.755\n"
     ]
    },
    {
     "name": "stderr",
     "output_type": "stream",
     "text": [
      "\n",
      "145it [00:09, 15.77it/s]"
     ]
    },
    {
     "name": "stdout",
     "output_type": "stream",
     "text": [
      "\n",
      "Epoch: 4, mse= 1.222\n"
     ]
    },
    {
     "name": "stderr",
     "output_type": "stream",
     "text": [
      "\n",
      "145it [00:10, 13.87it/s]"
     ]
    },
    {
     "name": "stdout",
     "output_type": "stream",
     "text": [
      "\n",
      "Epoch: 5, mse= 1.239\n"
     ]
    },
    {
     "name": "stderr",
     "output_type": "stream",
     "text": [
      "\n",
      "145it [00:10, 13.53it/s]"
     ]
    },
    {
     "name": "stdout",
     "output_type": "stream",
     "text": [
      "\n",
      "Epoch: 6, mse= 1.232\n"
     ]
    },
    {
     "name": "stderr",
     "output_type": "stream",
     "text": [
      "\n",
      "101it [00:07, 13.23it/s]"
     ]
    }
   ],
   "source": [
    "predictor.train()\n",
    "\n",
    "for epoch in range(100):\n",
    "\n",
    "    epoch_loss = 0\n",
    "    \n",
    "    for index, data in tqdm(enumerate(trainloader)):\n",
    "\n",
    "        optimizer.zero_grad()\n",
    "\n",
    "        data, gt = data # batch, 100, 4\n",
    "        gt = gt[:, :, 0].to(device, dtype=torch.float)\n",
    "\n",
    "        data = torch.unsqueeze(data, 1) # batch, channels, 100, 4\n",
    "        data = torch.transpose(data, 2, 3) # batch, channels, 4, 100\n",
    "\n",
    "        data = data.to(device, dtype=torch.float)\n",
    "\n",
    "        _, pr = predictor(data)\n",
    "\n",
    "        loss = nn.MSELoss()(pr, gt)\n",
    "        loss.backward()\n",
    "        optimizer.step()\n",
    "    \n",
    "        epoch_loss += loss.item()\n",
    "    \n",
    "    print(\"\\nEpoch: {}, mse= {:.3f}\".format(epoch+1, epoch_loss))\n",
    "    \n",
    "    epoch_loss = 0"
   ]
  },
  {
   "cell_type": "code",
   "execution_count": null,
   "id": "involved-april",
   "metadata": {},
   "outputs": [],
   "source": [
    "predictor.eval()\n",
    "\n",
    "for index, data in tqdm(enumerate(trainloader)):\n",
    "\n",
    "    data, gt = data # batch, 100, 4\n",
    "    gt = gt[:, :, 0].to(device, dtype=torch.float)\n",
    "    \n",
    "    data = torch.unsqueeze(data, 1) # batch, channels, 100, 4\n",
    "    data = torch.transpose(data, 2, 3) # batch, channels, 4, 100\n",
    "\n",
    "    data = data.to(device, dtype=torch.float)\n",
    "\n",
    "    _, pr = predictor(data)\n",
    "    \n",
    "    print(gt, pr)"
   ]
  },
  {
   "cell_type": "code",
   "execution_count": null,
   "id": "compact-formula",
   "metadata": {},
   "outputs": [],
   "source": [
    "pred = predictor"
   ]
  },
  {
   "cell_type": "code",
   "execution_count": 12,
   "id": "royal-barrel",
   "metadata": {},
   "outputs": [
    {
     "data": {
      "text/plain": [
       "<matplotlib.image.AxesImage at 0x7f47286b6f50>"
      ]
     },
     "execution_count": 12,
     "metadata": {},
     "output_type": "execute_result"
    },
    {
     "data": {
      "image/png": "[encoded data removed]",
      "text/plain": [
       "<Figure size 432x288 with 1 Axes>"
      ]
     },
     "metadata": {
      "needs_background": "light"
     },
     "output_type": "display_data"
    }
   ],
   "source": [
    "plt.imshow(dataset[0])"
   ]
  },
  {
   "cell_type": "code",
   "execution_count": 26,
   "id": "olympic-hospital",
   "metadata": {},
   "outputs": [
    {
     "data": {
      "text/plain": [
       "array([], shape=(0, 4), dtype=float64)"
      ]
     },
     "execution_count": 26,
     "metadata": {},
     "output_type": "execute_result"
    }
   ],
   "source": [
    "dataset[1259]"
   ]
  },
  {
   "cell_type": "code",
   "execution_count": 24,
   "id": "experimental-deadline",
   "metadata": {},
   "outputs": [
    {
     "data": {
      "text/plain": [
       "1158"
      ]
     },
     "execution_count": 24,
     "metadata": {},
     "output_type": "execute_result"
    }
   ],
   "source": [
    "len(dataset)"
   ]
  },
  {
   "cell_type": "code",
   "execution_count": null,
   "id": "satisfied-toronto",
   "metadata": {},
   "outputs": [],
   "source": []
  }
 ],
 "metadata": {
  "kernelspec": {
   "display_name": "Python 3",
   "language": "python",
   "name": "python3"
  },
  "language_info": {
   "codemirror_mode": {
    "name": "ipython",
    "version": 3
   },
   "file_extension": ".py",
   "mimetype": "text/x-python",
   "name": "python",
   "nbconvert_exporter": "python",
   "pygments_lexer": "ipython3",
   "version": "3.7.9"
  }
 },
 "nbformat": 4,
 "nbformat_minor": 5
}
